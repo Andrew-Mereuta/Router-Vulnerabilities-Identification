{
 "cells": [
  {
   "cell_type": "code",
   "execution_count": 2,
   "metadata": {},
   "outputs": [],
   "source": [
    "import pandas as pd\n",
    "import matplotlib.pyplot as plt"
   ]
  },
  {
   "cell_type": "code",
   "execution_count": 3,
   "metadata": {},
   "outputs": [
    {
     "data": {
      "text/html": [
       "<div>\n",
       "<style scoped>\n",
       "    .dataframe tbody tr th:only-of-type {\n",
       "        vertical-align: middle;\n",
       "    }\n",
       "\n",
       "    .dataframe tbody tr th {\n",
       "        vertical-align: top;\n",
       "    }\n",
       "\n",
       "    .dataframe thead th {\n",
       "        text-align: right;\n",
       "    }\n",
       "</style>\n",
       "<table border=\"1\" class=\"dataframe\">\n",
       "  <thead>\n",
       "    <tr style=\"text-align: right;\">\n",
       "      <th></th>\n",
       "      <th>Domain</th>\n",
       "      <th>IP</th>\n",
       "      <th>AuthoritativeEngineBoots</th>\n",
       "      <th>AuthoritativeEngineTimes</th>\n",
       "      <th>EngineID</th>\n",
       "      <th>ScanTime</th>\n",
       "    </tr>\n",
       "  </thead>\n",
       "  <tbody>\n",
       "    <tr>\n",
       "      <th>0</th>\n",
       "      <td>Domain</td>\n",
       "      <td>IP</td>\n",
       "      <td>AuthoritativeEngineBoots</td>\n",
       "      <td>AuthoritativeEngineTimes</td>\n",
       "      <td>EngineID</td>\n",
       "      <td>ScanTime</td>\n",
       "    </tr>\n",
       "    <tr>\n",
       "      <th>1</th>\n",
       "      <td>195.43.87.140</td>\n",
       "      <td>193.227.230.1</td>\n",
       "      <td>0</td>\n",
       "      <td>2024-03-20T09:14:16+01:00</td>\n",
       "      <td>80003a8c044e4f43233031</td>\n",
       "      <td>2024-03-20T09:14:16+01:00</td>\n",
       "    </tr>\n",
       "    <tr>\n",
       "      <th>2</th>\n",
       "      <td>195.43.87.140</td>\n",
       "      <td>213.133.166.13</td>\n",
       "      <td>Error</td>\n",
       "      <td>Error</td>\n",
       "      <td>Error</td>\n",
       "      <td>Error</td>\n",
       "    </tr>\n",
       "    <tr>\n",
       "      <th>3</th>\n",
       "      <td>195.43.87.140</td>\n",
       "      <td>185.1.50.153</td>\n",
       "      <td>Error</td>\n",
       "      <td>Error</td>\n",
       "      <td>Error</td>\n",
       "      <td>Error</td>\n",
       "    </tr>\n",
       "    <tr>\n",
       "      <th>4</th>\n",
       "      <td>195.43.87.140</td>\n",
       "      <td>195.122.18.250</td>\n",
       "      <td>Error</td>\n",
       "      <td>Error</td>\n",
       "      <td>Error</td>\n",
       "      <td>Error</td>\n",
       "    </tr>\n",
       "  </tbody>\n",
       "</table>\n",
       "</div>"
      ],
      "text/plain": [
       "          Domain              IP  AuthoritativeEngineBoots  \\\n",
       "0         Domain              IP  AuthoritativeEngineBoots   \n",
       "1  195.43.87.140   193.227.230.1                         0   \n",
       "2  195.43.87.140  213.133.166.13                     Error   \n",
       "3  195.43.87.140    185.1.50.153                     Error   \n",
       "4  195.43.87.140  195.122.18.250                     Error   \n",
       "\n",
       "    AuthoritativeEngineTimes                EngineID  \\\n",
       "0   AuthoritativeEngineTimes                EngineID   \n",
       "1  2024-03-20T09:14:16+01:00  80003a8c044e4f43233031   \n",
       "2                      Error                   Error   \n",
       "3                      Error                   Error   \n",
       "4                      Error                   Error   \n",
       "\n",
       "                    ScanTime  \n",
       "0                   ScanTime  \n",
       "1  2024-03-20T09:14:16+01:00  \n",
       "2                      Error  \n",
       "3                      Error  \n",
       "4                      Error  "
      ]
     },
     "execution_count": 3,
     "metadata": {},
     "output_type": "execute_result"
    }
   ],
   "source": [
    "snmp_results_path = '../output/testing_snmp_results.csv'\n",
    "column_names = [\"Domain\", \"IP\", \"AuthoritativeEngineBoots\", \"AuthoritativeEngineTimes\", \"EngineID\", \"ScanTime\"]\n",
    "\n",
    "df = pd.read_csv(snmp_results_path, names=column_names)\n",
    "df_no_errors = df[df['AuthoritativeEngineBoots'] != 'Error']\n",
    "\n",
    "df.head()"
   ]
  },
  {
   "cell_type": "code",
   "execution_count": 4,
   "metadata": {},
   "outputs": [
    {
     "data": {
      "image/png": "[encoded data removed]",
      "text/plain": [
       "<Figure size 600x400 with 1 Axes>"
      ]
     },
     "metadata": {},
     "output_type": "display_data"
    }
   ],
   "source": [
    "total_rows = len(df)\n",
    "\n",
    "error_percentage = (df[df['AuthoritativeEngineBoots'] == 'Error'].shape[0] / total_rows) * 100\n",
    "non_error_percentage = (df[df['AuthoritativeEngineBoots'] != 'Error'].shape[0] / total_rows) * 100\n",
    "\n",
    "plt.figure(figsize=(6, 4))\n",
    "plt.bar(['Error', 'Non-Error'], [error_percentage, non_error_percentage], color=['red', 'blue'], alpha=0.5)\n",
    "plt.xlabel('Error Status')\n",
    "plt.ylabel('Percentage')\n",
    "plt.title('Histogram of Rows with Errors vs Non-Errors (Percentage)')\n",
    "plt.ylim(0, 100)\n",
    "plt.tight_layout()\n",
    "plt.show()"
   ]
  },
  {
   "cell_type": "code",
   "execution_count": 5,
   "metadata": {},
   "outputs": [
    {
     "name": "stdout",
     "output_type": "stream",
     "text": [
      "EngineID with multiple IPs:\n",
      "EngineID: 00000009030000a742533de0, Count: 2\n",
      "['62.115.15.5' '213.248.86.1']\n",
      "\n"
     ]
    }
   ],
   "source": [
    "ip_count_per_engine = df_no_errors.groupby('EngineID')['IP'].nunique().sort_values(ascending=False)\n",
    "duplicates = ip_count_per_engine[ip_count_per_engine > 1]\n",
    "\n",
    "print(\"EngineID with multiple IPs:\")\n",
    "for engine_id, count in duplicates.items():\n",
    "    group_df = df_no_errors[df_no_errors['EngineID'] == engine_id]\n",
    "    print(f\"EngineID: {engine_id}, Count: {count}\")\n",
    "    print(group_df['IP'].unique())\n",
    "    print()"
   ]
  },
  {
   "cell_type": "code",
   "execution_count": null,
   "metadata": {},
   "outputs": [],
   "source": []
  }
 ],
 "metadata": {
  "kernelspec": {
   "display_name": "Python 3",
   "language": "python",
   "name": "python3"
  },
  "language_info": {
   "codemirror_mode": {
    "name": "ipython",
    "version": 3
   },
   "file_extension": ".py",
   "mimetype": "text/x-python",
   "name": "python",
   "nbconvert_exporter": "python",
   "pygments_lexer": "ipython3",
   "version": "3.10.12"
  }
 },
 "nbformat": 4,
 "nbformat_minor": 2
}
